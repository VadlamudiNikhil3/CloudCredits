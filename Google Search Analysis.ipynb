{
 "cells": [
  {
   "cell_type": "markdown",
   "id": "a414d4b3",
   "metadata": {},
   "source": [
    "## Google search Analysis Using Python"
   ]
  },
  {
   "cell_type": "markdown",
   "id": "4968e331",
   "metadata": {},
   "source": [
    "### Installation of Pytrends"
   ]
  },
  {
   "cell_type": "code",
   "execution_count": 1,
   "id": "4b3b101c",
   "metadata": {},
   "outputs": [
    {
     "name": "stdout",
     "output_type": "stream",
     "text": [
      "Collecting pytrends\n",
      "  Obtaining dependency information for pytrends from https://files.pythonhosted.org/packages/68/ba/7a24a3723c790000faf880505ff1cc46f4d29f46dd353037938a070c4d23/pytrends-4.9.2-py3-none-any.whl.metadata\n",
      "  Downloading pytrends-4.9.2-py3-none-any.whl.metadata (13 kB)\n",
      "Requirement already satisfied: requests>=2.0 in c:\\users\\bheem\\anaconda3\\lib\\site-packages (from pytrends) (2.31.0)\n",
      "Requirement already satisfied: pandas>=0.25 in c:\\users\\bheem\\anaconda3\\lib\\site-packages (from pytrends) (2.0.3)\n",
      "Requirement already satisfied: lxml in c:\\users\\bheem\\anaconda3\\lib\\site-packages (from pytrends) (4.9.3)\n",
      "Requirement already satisfied: python-dateutil>=2.8.2 in c:\\users\\bheem\\anaconda3\\lib\\site-packages (from pandas>=0.25->pytrends) (2.8.2)\n",
      "Requirement already satisfied: pytz>=2020.1 in c:\\users\\bheem\\anaconda3\\lib\\site-packages (from pandas>=0.25->pytrends) (2023.3.post1)\n",
      "Requirement already satisfied: tzdata>=2022.1 in c:\\users\\bheem\\anaconda3\\lib\\site-packages (from pandas>=0.25->pytrends) (2023.3)\n",
      "Requirement already satisfied: numpy>=1.21.0 in c:\\users\\bheem\\anaconda3\\lib\\site-packages (from pandas>=0.25->pytrends) (1.24.3)\n",
      "Requirement already satisfied: charset-normalizer<4,>=2 in c:\\users\\bheem\\anaconda3\\lib\\site-packages (from requests>=2.0->pytrends) (2.0.4)\n",
      "Requirement already satisfied: idna<4,>=2.5 in c:\\users\\bheem\\anaconda3\\lib\\site-packages (from requests>=2.0->pytrends) (3.4)\n",
      "Requirement already satisfied: urllib3<3,>=1.21.1 in c:\\users\\bheem\\anaconda3\\lib\\site-packages (from requests>=2.0->pytrends) (1.26.16)\n",
      "Requirement already satisfied: certifi>=2017.4.17 in c:\\users\\bheem\\anaconda3\\lib\\site-packages (from requests>=2.0->pytrends) (2024.7.4)\n",
      "Requirement already satisfied: six>=1.5 in c:\\users\\bheem\\anaconda3\\lib\\site-packages (from python-dateutil>=2.8.2->pandas>=0.25->pytrends) (1.16.0)\n",
      "Downloading pytrends-4.9.2-py3-none-any.whl (15 kB)\n",
      "Installing collected packages: pytrends\n",
      "Successfully installed pytrends-4.9.2\n"
     ]
    }
   ],
   "source": [
    "!pip install pytrends"
   ]
  },
  {
   "cell_type": "markdown",
   "id": "5003cf92",
   "metadata": {},
   "source": [
    "### Connecting to Google\n",
    "#### Google search trends by importing the required python libraries\n",
    "#### Importing methods TrendReq and pytrends.req for requesting the google trending topics"
   ]
  },
  {
   "cell_type": "code",
   "execution_count": 17,
   "id": "181c7e36",
   "metadata": {},
   "outputs": [],
   "source": [
    "import pandas as pd\n",
    "from pytrends.request import TrendReq\n",
    "import matplotlib.pyplot as plt\n",
    "import time\n",
    "\n",
    "Trending_topics=TrendReq(hl='en-US',tz=350)"
   ]
  },
  {
   "cell_type": "markdown",
   "id": "1451b426",
   "metadata": {},
   "source": [
    "Creating the Dataframe of the top countires and searching the term COULD COMPUTING, we are using the method build_payload"
   ]
  },
  {
   "cell_type": "code",
   "execution_count": 18,
   "id": "5082cacd",
   "metadata": {},
   "outputs": [],
   "source": [
    "kw_list=[\"Cloud Computing\"]\n",
    "Trending_topics.build_payload(kw_list,cat=0,timeframe='today 12-m')\n",
    "time.sleep(10)"
   ]
  },
  {
   "cell_type": "code",
   "execution_count": 26,
   "id": "930f6752",
   "metadata": {},
   "outputs": [
    {
     "name": "stdout",
     "output_type": "stream",
     "text": [
      "            Cloud Computing  isPartial\n",
      "date                                  \n",
      "2023-12-10              100      False\n",
      "2024-01-28               84      False\n",
      "2023-12-17               82      False\n",
      "2024-11-17               81      False\n",
      "2024-02-11               80      False\n",
      "2024-03-17               79      False\n",
      "2024-01-21               79      False\n",
      "2024-01-07               78      False\n",
      "2024-05-05               78      False\n",
      "2024-04-28               78      False\n"
     ]
    }
   ],
   "source": [
    "import pandas as pd\n",
    "from pytrends.request import TrendReq\n",
    "import matplotlib.pyplot as plt\n",
    "import time\n",
    "\n",
    "Trending_topics = TrendReq(hl='en-US', tz=360)\n",
    "\n",
    "kw_list=[\"Cloud Computing\"]\n",
    "Trending_topics.build_payload(kw_list,cat=0, timeframe='today 12-m')\n",
    "time.sleep(10)  \n",
    "\n",
    "data = Trending_topics.interest_over_time()\n",
    "data = data.sort_values(by=\"Cloud Computing\", ascending = False)\n",
    "data = data.head(10)\n",
    "print(data)"
   ]
  },
  {
   "cell_type": "code",
   "execution_count": 27,
   "id": "ebf7e426",
   "metadata": {},
   "outputs": [
    {
     "name": "stdout",
     "output_type": "stream",
     "text": [
      "            Cloud Computing  isPartial\n",
      "date                                  \n",
      "2018-01-30              100      False\n",
      "2018-01-18               97      False\n",
      "2018-02-01               95      False\n",
      "2018-01-08               92      False\n",
      "2018-01-24               91      False\n",
      "2018-01-04               90      False\n",
      "2018-01-11               90      False\n",
      "2018-01-10               89      False\n",
      "2018-01-22               89      False\n",
      "2018-01-09               88      False\n"
     ]
    }
   ],
   "source": [
    "kw_list = [\"Cloud Computing\"]\n",
    "Trending_topics.build_payload(kw_list, cat=0, timeframe='2018-01-01 2018-02-01', geo='', gprop='')\n",
    "data = Trending_topics.interest_over_time()\n",
    "data = data.sort_values(by=\"Cloud Computing\", ascending = False)\n",
    "data = data.head(10)\n",
    "print(data)"
   ]
  },
  {
   "cell_type": "code",
   "execution_count": 28,
   "id": "4d855baf",
   "metadata": {},
   "outputs": [
    {
     "ename": "TooManyRequestsError",
     "evalue": "The request failed: Google returned a response with code 429",
     "output_type": "error",
     "traceback": [
      "\u001b[1;31m----------------------------------------------------------------\u001b[0m",
      "\u001b[1;31mTooManyRequestsError\u001b[0m           Traceback (most recent call last)",
      "Cell \u001b[1;32mIn[28], line 1\u001b[0m\n\u001b[1;32m----> 1\u001b[0m data \u001b[38;5;241m=\u001b[39m Trending_topics\u001b[38;5;241m.\u001b[39minterest_by_region()\n\u001b[0;32m      2\u001b[0m data \u001b[38;5;241m=\u001b[39m data\u001b[38;5;241m.\u001b[39msort_values(by\u001b[38;5;241m=\u001b[39m\u001b[38;5;124m\"\u001b[39m\u001b[38;5;124mCloud Computing\u001b[39m\u001b[38;5;124m\"\u001b[39m, \n\u001b[0;32m      3\u001b[0m                         ascending \u001b[38;5;241m=\u001b[39m \u001b[38;5;28;01mFalse\u001b[39;00m)\n\u001b[0;32m      4\u001b[0m data \u001b[38;5;241m=\u001b[39m data\u001b[38;5;241m.\u001b[39mhead(\u001b[38;5;241m10\u001b[39m)\n",
      "File \u001b[1;32m~\\anaconda3\\Lib\\site-packages\\pytrends\\request.py:340\u001b[0m, in \u001b[0;36mTrendReq.interest_by_region\u001b[1;34m(self, resolution, inc_low_vol, inc_geo_code)\u001b[0m\n\u001b[0;32m    337\u001b[0m region_payload[\u001b[38;5;124m'\u001b[39m\u001b[38;5;124mtz\u001b[39m\u001b[38;5;124m'\u001b[39m] \u001b[38;5;241m=\u001b[39m \u001b[38;5;28mself\u001b[39m\u001b[38;5;241m.\u001b[39mtz\n\u001b[0;32m    339\u001b[0m \u001b[38;5;66;03m# parse returned json\u001b[39;00m\n\u001b[1;32m--> 340\u001b[0m req_json \u001b[38;5;241m=\u001b[39m \u001b[38;5;28mself\u001b[39m\u001b[38;5;241m.\u001b[39m_get_data(\n\u001b[0;32m    341\u001b[0m     url\u001b[38;5;241m=\u001b[39mTrendReq\u001b[38;5;241m.\u001b[39mINTEREST_BY_REGION_URL,\n\u001b[0;32m    342\u001b[0m     method\u001b[38;5;241m=\u001b[39mTrendReq\u001b[38;5;241m.\u001b[39mGET_METHOD,\n\u001b[0;32m    343\u001b[0m     trim_chars\u001b[38;5;241m=\u001b[39m\u001b[38;5;241m5\u001b[39m,\n\u001b[0;32m    344\u001b[0m     params\u001b[38;5;241m=\u001b[39mregion_payload,\n\u001b[0;32m    345\u001b[0m )\n\u001b[0;32m    346\u001b[0m df \u001b[38;5;241m=\u001b[39m pd\u001b[38;5;241m.\u001b[39mDataFrame(req_json[\u001b[38;5;124m'\u001b[39m\u001b[38;5;124mdefault\u001b[39m\u001b[38;5;124m'\u001b[39m][\u001b[38;5;124m'\u001b[39m\u001b[38;5;124mgeoMapData\u001b[39m\u001b[38;5;124m'\u001b[39m])\n\u001b[0;32m    347\u001b[0m \u001b[38;5;28;01mif\u001b[39;00m (df\u001b[38;5;241m.\u001b[39mempty):\n",
      "File \u001b[1;32m~\\anaconda3\\Lib\\site-packages\\pytrends\\request.py:159\u001b[0m, in \u001b[0;36mTrendReq._get_data\u001b[1;34m(self, url, method, trim_chars, **kwargs)\u001b[0m\n\u001b[0;32m    157\u001b[0m \u001b[38;5;28;01melse\u001b[39;00m:\n\u001b[0;32m    158\u001b[0m     \u001b[38;5;28;01mif\u001b[39;00m response\u001b[38;5;241m.\u001b[39mstatus_code \u001b[38;5;241m==\u001b[39m status_codes\u001b[38;5;241m.\u001b[39mcodes\u001b[38;5;241m.\u001b[39mtoo_many_requests:\n\u001b[1;32m--> 159\u001b[0m         \u001b[38;5;28;01mraise\u001b[39;00m exceptions\u001b[38;5;241m.\u001b[39mTooManyRequestsError\u001b[38;5;241m.\u001b[39mfrom_response(response)\n\u001b[0;32m    160\u001b[0m     \u001b[38;5;28;01mraise\u001b[39;00m exceptions\u001b[38;5;241m.\u001b[39mResponseError\u001b[38;5;241m.\u001b[39mfrom_response(response)\n",
      "\u001b[1;31mTooManyRequestsError\u001b[0m: The request failed: Google returned a response with code 429"
     ]
    }
   ],
   "source": [
    "data = Trending_topics.interest_by_region()\n",
    "data = data.sort_values(by=\"Cloud Computing\", \n",
    "                        ascending = False)\n",
    "data = data.head(10)\n",
    "print(data)"
   ]
  },
  {
   "cell_type": "code",
   "execution_count": 29,
   "id": "fdb573b6",
   "metadata": {},
   "outputs": [
    {
     "name": "stdout",
     "output_type": "stream",
     "text": [
      "Collecting backoff\n",
      "  Obtaining dependency information for backoff from https://files.pythonhosted.org/packages/df/73/b6e24bd22e6720ca8ee9a85a0c4a2971af8497d8f3193fa05390cbd46e09/backoff-2.2.1-py3-none-any.whl.metadata\n",
      "  Downloading backoff-2.2.1-py3-none-any.whl.metadata (14 kB)\n",
      "Downloading backoff-2.2.1-py3-none-any.whl (15 kB)\n",
      "Installing collected packages: backoff\n",
      "Successfully installed backoff-2.2.1\n"
     ]
    }
   ],
   "source": [
    "!pip install backoff"
   ]
  },
  {
   "cell_type": "code",
   "execution_count": 31,
   "id": "137c5fa7",
   "metadata": {},
   "outputs": [
    {
     "ename": "AttributeError",
     "evalue": "'TrendReq' object has no attribute 'exceptions'",
     "output_type": "error",
     "traceback": [
      "\u001b[1;31m----------------------------------------------------------------\u001b[0m",
      "\u001b[1;31mAttributeError\u001b[0m                 Traceback (most recent call last)",
      "Cell \u001b[1;32mIn[31], line 7\u001b[0m\n\u001b[0;32m      4\u001b[0m \u001b[38;5;28;01mimport\u001b[39;00m \u001b[38;5;21;01mtime\u001b[39;00m\n\u001b[0;32m      5\u001b[0m \u001b[38;5;28;01mimport\u001b[39;00m \u001b[38;5;21;01mbackoff\u001b[39;00m\n\u001b[1;32m----> 7\u001b[0m \u001b[38;5;129m@backoff\u001b[39m\u001b[38;5;241m.\u001b[39mon_exception(backoff\u001b[38;5;241m.\u001b[39mexpo, pytrends\u001b[38;5;241m.\u001b[39mexceptions\u001b[38;5;241m.\u001b[39mTooManyRequestsError, max_tries\u001b[38;5;241m=\u001b[39m\u001b[38;5;241m3\u001b[39m)  \u001b[38;5;66;03m# Decorator to handle TooManyRequestsError\u001b[39;00m\n\u001b[0;32m      8\u001b[0m \u001b[38;5;28;01mdef\u001b[39;00m \u001b[38;5;21mget_trends_data\u001b[39m(trending_topics, kw_list):\n\u001b[0;32m      9\u001b[0m         trending_topics\u001b[38;5;241m.\u001b[39mbuild_payload(kw_list, cat\u001b[38;5;241m=\u001b[39m\u001b[38;5;241m0\u001b[39m, timeframe\u001b[38;5;241m=\u001b[39m\u001b[38;5;124m'\u001b[39m\u001b[38;5;124mtoday 12-m\u001b[39m\u001b[38;5;124m'\u001b[39m)\n\u001b[0;32m     10\u001b[0m         interest_over_time_data \u001b[38;5;241m=\u001b[39m trending_topics\u001b[38;5;241m.\u001b[39minterest_over_time()\n",
      "\u001b[1;31mAttributeError\u001b[0m: 'TrendReq' object has no attribute 'exceptions'"
     ]
    }
   ],
   "source": [
    "import pandas as pd\n",
    "from pytrends.request import TrendReq\n",
    "import matplotlib.pyplot as plt\n",
    "import time\n",
    "import backoff\n",
    "\n",
    "@backoff.on_exception(backoff.expo, pytrends.exceptions.TooManyRequestsError, max_tries=3)  # Decorator to handle TooManyRequestsError\n",
    "def get_trends_data(trending_topics, kw_list):\n",
    "        trending_topics.build_payload(kw_list, cat=0, timeframe='today 12-m')\n",
    "        interest_over_time_data = trending_topics.interest_over_time()\n",
    "        interest_by_region_data = trending_topics.interest_by_region()\n",
    "        return interest_over_time_data, interest_by_region_data\n",
    "\n",
    "Trending_topics = TrendReq(hl='en-US', tz=360)\n",
    "kw_list = [\"Cloud Computing\"]\n",
    "\n",
    "\n",
    "interest_over_time_data, interest_by_region_data = get_trends_data(Trending_topics, kw_list)\n",
    "\n",
    "\n",
    "data = interest_over_time_data.sort_values(by=\"Cloud Computing\", ascending=False)\n",
    "data = data.head(10)\n",
    "print(\"Interest Over Time:\")\n",
    "print(data)\n",
    "\n",
    "\n",
    "data = interest_by_region_data.sort_values(by=\"Cloud Computing\", ascending=False)\n",
    "data = data.head(10)\n",
    "print(\"\\nInterest By Region:\")\n",
    "print(data)"
   ]
  },
  {
   "cell_type": "code",
   "execution_count": 32,
   "id": "b0cf1c47",
   "metadata": {},
   "outputs": [
    {
     "name": "stdout",
     "output_type": "stream",
     "text": [
      "Interest Over Time:\n",
      "            Cloud Computing  isPartial\n",
      "date                                  \n",
      "2023-12-10              100      False\n",
      "2024-01-28               93      False\n",
      "2024-02-25               91      False\n",
      "2024-01-21               89      False\n",
      "2023-12-17               88      False\n",
      "2024-11-17               87      False\n",
      "2024-02-11               87      False\n",
      "2024-03-17               86      False\n",
      "2024-05-19               86      False\n",
      "2024-02-04               86      False\n",
      "\n",
      "Interest By Region:\n",
      "             Cloud Computing\n",
      "geoName                     \n",
      "Nepal                    100\n",
      "Ethiopia                  90\n",
      "India                     88\n",
      "Zimbabwe                  79\n",
      "Cameroon                  67\n",
      "Ghana                     59\n",
      "Sri Lanka                 59\n",
      "Kenya                     51\n",
      "Nigeria                   47\n",
      "South Korea               46\n"
     ]
    }
   ],
   "source": [
    "import pandas as pd\n",
    "from pytrends.request import TrendReq\n",
    "import matplotlib.pyplot as plt\n",
    "import time\n",
    "import backoff \n",
    "import pytrends \n",
    "\n",
    "@backoff.on_exception(backoff.expo, pytrends.exceptions.TooManyRequestsError, max_tries=3)  # Decorator to handle TooManyRequestsError\n",
    "def get_trends_data(trending_topics, kw_list):\n",
    "    \n",
    "    trending_topics.build_payload(kw_list, cat=0, timeframe='today 12-m')\n",
    "    interest_over_time_data = trending_topics.interest_over_time()\n",
    "\n",
    "    time.sleep(5)  \n",
    "    interest_by_region_data = trending_topics.interest_by_region()\n",
    "    return interest_over_time_data, interest_by_region_data\n",
    "\n",
    "Trending_topics = TrendReq(hl='en-US', tz=360)\n",
    "kw_list = [\"Cloud Computing\"]\n",
    "\n",
    "\n",
    "interest_over_time_data, interest_by_region_data = get_trends_data(Trending_topics, kw_list)\n",
    "\n",
    "\n",
    "data = interest_over_time_data.sort_values(by=\"Cloud Computing\", ascending=False)\n",
    "data = data.head(10)\n",
    "print(\"Interest Over Time:\")\n",
    "print(data)\n",
    "\n",
    "\n",
    "data = interest_by_region_data.sort_values(by=\"Cloud Computing\", ascending=False)\n",
    "data = data.head(10)\n",
    "print(\"\\nInterest By Region:\")\n",
    "print(data)"
   ]
  },
  {
   "cell_type": "code",
   "execution_count": 33,
   "id": "16c73258",
   "metadata": {},
   "outputs": [
    {
     "data": {
      "image/png": "[encoded data removed]",
      "text/plain": [
       "<Figure size 1000x500 with 1 Axes>"
      ]
     },
     "metadata": {},
     "output_type": "display_data"
    }
   ],
   "source": [
    "data.reset_index().plot(x='geoName', y='Cloud Computing',\n",
    "                        figsize=(10,5), kind=\"bar\")\n",
    "plt.style.use('fivethirtyeight')\n",
    "plt.show()"
   ]
  },
  {
   "cell_type": "code",
   "execution_count": 38,
   "id": "12044751",
   "metadata": {},
   "outputs": [
    {
     "name": "stdout",
     "output_type": "stream",
     "text": [
      "                    title   exploreQuery\n",
      "0  War in Israel and Gaza    Israel Gaza\n",
      "1       Titanic submarine               \n",
      "2       Turkey earthquake               \n",
      "3        Hurricane Hilary               \n",
      "4        Hurricane Idalia               \n",
      "5           Hurricane Lee               \n",
      "6          Maine shooting               \n",
      "7      Nashville shooting               \n",
      "8           Chandrayaan-3  Chandrayaan 3\n",
      "9            War in Sudan          Sudan\n"
     ]
    }
   ],
   "source": [
    "df = Trending_topics.top_charts(2023, hl='en-US', tz=300, geo='GLOBAL')  \n",
    "if df is not None:  \n",
    "    print(df.head(10))  \n",
    "else:  \n",
    "    print(\"No data available for the specified parameters.\")"
   ]
  },
  {
   "cell_type": "markdown",
   "id": "4c5e7dd5",
   "metadata": {},
   "source": [
    "### For Related Queries"
   ]
  },
  {
   "cell_type": "code",
   "execution_count": 39,
   "id": "3f8c5c77",
   "metadata": {},
   "outputs": [
    {
     "name": "stdout",
     "output_type": "stream",
     "text": [
      "No related queries found for 'Cloud Computing'\n"
     ]
    }
   ],
   "source": [
    "try:\n",
    "    Trending_topics.build_payload(kw_list=['Cloud Computing'])\n",
    "    related_queries = Trending_topics.related_queries()\n",
    "    related_queries.values()\n",
    "except (KeyError, IndexError):\n",
    "    print(\"No related queries found for 'Cloud Computing'\")"
   ]
  },
  {
   "cell_type": "code",
   "execution_count": null,
   "id": "7a81904d",
   "metadata": {},
   "outputs": [],
   "source": []
  }
 ],
 "metadata": {
  "kernelspec": {
   "display_name": "Python 3 (ipykernel)",
   "language": "python",
   "name": "python3"
  },
  "language_info": {
   "codemirror_mode": {
    "name": "ipython",
    "version": 3
   },
   "file_extension": ".py",
   "mimetype": "text/x-python",
   "name": "python",
   "nbconvert_exporter": "python",
   "pygments_lexer": "ipython3",
   "version": "3.11.5"
  }
 },
 "nbformat": 4,
 "nbformat_minor": 5
}
